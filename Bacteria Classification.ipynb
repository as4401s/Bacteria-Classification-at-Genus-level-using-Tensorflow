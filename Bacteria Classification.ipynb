{
 "cells": [
  {
   "cell_type": "code",
   "execution_count": 1,
   "metadata": {
    "scrolled": true
   },
   "outputs": [],
   "source": [
    "import tensorflow as tf\n",
    "from tensorflow.keras.layers import Input, Dense, Flatten, Conv2D, MaxPooling2D, Dropout, BatchNormalization\n",
    "from tensorflow.keras.models import Model\n",
    "from tensorflow.keras.optimizers import Adam\n",
    "from tensorflow.keras.preprocessing.image import ImageDataGenerator"
   ]
  },
  {
   "cell_type": "code",
   "execution_count": 2,
   "metadata": {
    "scrolled": true
   },
   "outputs": [],
   "source": [
    "import numpy as np\n",
    "import matplotlib.pyplot as plt\n",
    "import pandas as pd\n",
    "import os"
   ]
  },
  {
   "cell_type": "code",
   "execution_count": 3,
   "metadata": {
    "scrolled": true
   },
   "outputs": [],
   "source": [
    "import SimpleITK as sitk\n",
    "import cv2 as cv"
   ]
  },
  {
   "cell_type": "code",
   "execution_count": 4,
   "metadata": {
    "scrolled": true
   },
   "outputs": [
    {
     "data": {
      "text/plain": [
       "(606,)"
      ]
     },
     "execution_count": 4,
     "metadata": {},
     "output_type": "execute_result"
    }
   ],
   "source": [
    "location = 'H:/All Files/Kaggle/Bacteria/Train_Images/'\n",
    "train = os.listdir(location)\n",
    "np.shape(train)"
   ]
  },
  {
   "cell_type": "code",
   "execution_count": 5,
   "metadata": {
    "scrolled": true
   },
   "outputs": [
    {
     "data": {
      "text/html": [
       "<div>\n",
       "<style scoped>\n",
       "    .dataframe tbody tr th:only-of-type {\n",
       "        vertical-align: middle;\n",
       "    }\n",
       "\n",
       "    .dataframe tbody tr th {\n",
       "        vertical-align: top;\n",
       "    }\n",
       "\n",
       "    .dataframe thead th {\n",
       "        text-align: right;\n",
       "    }\n",
       "</style>\n",
       "<table border=\"1\" class=\"dataframe\">\n",
       "  <thead>\n",
       "    <tr style=\"text-align: right;\">\n",
       "      <th></th>\n",
       "      <th>Image ID</th>\n",
       "      <th>Class</th>\n",
       "    </tr>\n",
       "  </thead>\n",
       "  <tbody>\n",
       "    <tr>\n",
       "      <th>0</th>\n",
       "      <td>4</td>\n",
       "      <td>ecoli</td>\n",
       "    </tr>\n",
       "    <tr>\n",
       "      <th>1</th>\n",
       "      <td>5</td>\n",
       "      <td>salmonella</td>\n",
       "    </tr>\n",
       "    <tr>\n",
       "      <th>2</th>\n",
       "      <td>14</td>\n",
       "      <td>staphylococus</td>\n",
       "    </tr>\n",
       "    <tr>\n",
       "      <th>3</th>\n",
       "      <td>15</td>\n",
       "      <td>listeria</td>\n",
       "    </tr>\n",
       "    <tr>\n",
       "      <th>4</th>\n",
       "      <td>16</td>\n",
       "      <td>ecoli</td>\n",
       "    </tr>\n",
       "    <tr>\n",
       "      <th>5</th>\n",
       "      <td>21</td>\n",
       "      <td>ecoli</td>\n",
       "    </tr>\n",
       "    <tr>\n",
       "      <th>6</th>\n",
       "      <td>22</td>\n",
       "      <td>salmonella</td>\n",
       "    </tr>\n",
       "    <tr>\n",
       "      <th>7</th>\n",
       "      <td>23</td>\n",
       "      <td>staphylococus</td>\n",
       "    </tr>\n",
       "    <tr>\n",
       "      <th>8</th>\n",
       "      <td>24</td>\n",
       "      <td>ecoli</td>\n",
       "    </tr>\n",
       "    <tr>\n",
       "      <th>9</th>\n",
       "      <td>26</td>\n",
       "      <td>salmonella</td>\n",
       "    </tr>\n",
       "  </tbody>\n",
       "</table>\n",
       "</div>"
      ],
      "text/plain": [
       "   Image ID          Class\n",
       "0         4          ecoli\n",
       "1         5     salmonella\n",
       "2        14  staphylococus\n",
       "3        15       listeria\n",
       "4        16          ecoli\n",
       "5        21          ecoli\n",
       "6        22     salmonella\n",
       "7        23  staphylococus\n",
       "8        24          ecoli\n",
       "9        26     salmonella"
      ]
     },
     "execution_count": 5,
     "metadata": {},
     "output_type": "execute_result"
    }
   ],
   "source": [
    "data = pd.read_excel('H:/All Files/Kaggle/Bacteria/TrainImageLabels.xlsx')\n",
    "data.head(10)"
   ]
  },
  {
   "cell_type": "code",
   "execution_count": 6,
   "metadata": {
    "scrolled": true
   },
   "outputs": [
    {
     "data": {
      "text/html": [
       "<div>\n",
       "<style scoped>\n",
       "    .dataframe tbody tr th:only-of-type {\n",
       "        vertical-align: middle;\n",
       "    }\n",
       "\n",
       "    .dataframe tbody tr th {\n",
       "        vertical-align: top;\n",
       "    }\n",
       "\n",
       "    .dataframe thead th {\n",
       "        text-align: right;\n",
       "    }\n",
       "</style>\n",
       "<table border=\"1\" class=\"dataframe\">\n",
       "  <thead>\n",
       "    <tr style=\"text-align: right;\">\n",
       "      <th></th>\n",
       "      <th>Image ID</th>\n",
       "    </tr>\n",
       "    <tr>\n",
       "      <th>Class</th>\n",
       "      <th></th>\n",
       "    </tr>\n",
       "  </thead>\n",
       "  <tbody>\n",
       "    <tr>\n",
       "      <th>listeria</th>\n",
       "      <td>153</td>\n",
       "    </tr>\n",
       "    <tr>\n",
       "      <th>salmonella</th>\n",
       "      <td>153</td>\n",
       "    </tr>\n",
       "    <tr>\n",
       "      <th>ecoli</th>\n",
       "      <td>150</td>\n",
       "    </tr>\n",
       "    <tr>\n",
       "      <th>staphylococus</th>\n",
       "      <td>150</td>\n",
       "    </tr>\n",
       "  </tbody>\n",
       "</table>\n",
       "</div>"
      ],
      "text/plain": [
       "               Image ID\n",
       "Class                  \n",
       "listeria            153\n",
       "salmonella          153\n",
       "ecoli               150\n",
       "staphylococus       150"
      ]
     },
     "execution_count": 6,
     "metadata": {},
     "output_type": "execute_result"
    }
   ],
   "source": [
    "data.pivot_table(index='Class',aggfunc=len).sort_values('Image ID',ascending=False)\n",
    "\n",
    "#Checking number of bacteria per class"
   ]
  },
  {
   "cell_type": "code",
   "execution_count": 7,
   "metadata": {},
   "outputs": [
    {
     "data": {
      "text/html": [
       "<div>\n",
       "<style scoped>\n",
       "    .dataframe tbody tr th:only-of-type {\n",
       "        vertical-align: middle;\n",
       "    }\n",
       "\n",
       "    .dataframe tbody tr th {\n",
       "        vertical-align: top;\n",
       "    }\n",
       "\n",
       "    .dataframe thead th {\n",
       "        text-align: right;\n",
       "    }\n",
       "</style>\n",
       "<table border=\"1\" class=\"dataframe\">\n",
       "  <thead>\n",
       "    <tr style=\"text-align: right;\">\n",
       "      <th></th>\n",
       "      <th>Image ID</th>\n",
       "      <th>Class</th>\n",
       "    </tr>\n",
       "  </thead>\n",
       "  <tbody>\n",
       "    <tr>\n",
       "      <th>0</th>\n",
       "      <td>4</td>\n",
       "      <td>0</td>\n",
       "    </tr>\n",
       "    <tr>\n",
       "      <th>1</th>\n",
       "      <td>5</td>\n",
       "      <td>2</td>\n",
       "    </tr>\n",
       "    <tr>\n",
       "      <th>2</th>\n",
       "      <td>14</td>\n",
       "      <td>3</td>\n",
       "    </tr>\n",
       "    <tr>\n",
       "      <th>3</th>\n",
       "      <td>15</td>\n",
       "      <td>1</td>\n",
       "    </tr>\n",
       "    <tr>\n",
       "      <th>4</th>\n",
       "      <td>16</td>\n",
       "      <td>0</td>\n",
       "    </tr>\n",
       "  </tbody>\n",
       "</table>\n",
       "</div>"
      ],
      "text/plain": [
       "   Image ID  Class\n",
       "0         4      0\n",
       "1         5      2\n",
       "2        14      3\n",
       "3        15      1\n",
       "4        16      0"
      ]
     },
     "execution_count": 7,
     "metadata": {},
     "output_type": "execute_result"
    }
   ],
   "source": [
    "from sklearn.preprocessing import LabelEncoder\n",
    "\n",
    "label1=LabelEncoder()\n",
    "data['Class'] = label1.fit_transform(data['Class'])\n",
    "\n",
    "data.head()"
   ]
  },
  {
   "cell_type": "markdown",
   "metadata": {},
   "source": [
    "0 = ecoli, 1 = listeria, 2 = salmonella , 3 = staphylococus"
   ]
  },
  {
   "cell_type": "code",
   "execution_count": 8,
   "metadata": {
    "scrolled": true
   },
   "outputs": [],
   "source": [
    "image_size = 512\n",
    "\n",
    "def loadDataTrain(data, location):\n",
    "\n",
    "    images = []\n",
    "    labels = []\n",
    "    name = []\n",
    "\n",
    "    for i, item in data.iterrows():\n",
    "        image_raw = cv.imread(os.path.join(location + str(item[0]) + '.png'))\n",
    "        image_resize = cv.resize(image_raw,(image_size,image_size))\n",
    "        image = image_resize/255.0\n",
    "        \n",
    "        image_name = str(item[0])\n",
    "        \n",
    "        label = data['Class'].values[i]\n",
    "        \n",
    "        \n",
    "        images.append(image)\n",
    "        labels.append(label)\n",
    "        name.append(image_name)\n",
    "               \n",
    "    images = np.array(images)\n",
    "    labels = np.array(labels)\n",
    "    name = np.array(name)\n",
    "    \n",
    "    return images,labels,name"
   ]
  },
  {
   "cell_type": "code",
   "execution_count": 9,
   "metadata": {},
   "outputs": [],
   "source": [
    "X,y,n = loadDataTrain(data,location)"
   ]
  },
  {
   "cell_type": "code",
   "execution_count": 10,
   "metadata": {
    "scrolled": true
   },
   "outputs": [
    {
     "data": {
      "text/plain": [
       "(606, 512, 512, 3)"
      ]
     },
     "execution_count": 10,
     "metadata": {},
     "output_type": "execute_result"
    }
   ],
   "source": [
    "X.shape"
   ]
  },
  {
   "cell_type": "code",
   "execution_count": 11,
   "metadata": {},
   "outputs": [
    {
     "data": {
      "text/plain": [
       "(606,)"
      ]
     },
     "execution_count": 11,
     "metadata": {},
     "output_type": "execute_result"
    }
   ],
   "source": [
    "y.shape"
   ]
  },
  {
   "cell_type": "code",
   "execution_count": 12,
   "metadata": {},
   "outputs": [
    {
     "data": {
      "text/plain": [
       "(606,)"
      ]
     },
     "execution_count": 12,
     "metadata": {},
     "output_type": "execute_result"
    }
   ],
   "source": [
    "n.shape"
   ]
  },
  {
   "cell_type": "code",
   "execution_count": 13,
   "metadata": {},
   "outputs": [
    {
     "name": "stdout",
     "output_type": "stream",
     "text": [
      "(606, 512, 512, 3)\n",
      "(606, 1)\n"
     ]
    }
   ],
   "source": [
    "y_new = np.expand_dims(y,axis=1)\n",
    "x_new = np.array(X).reshape(-1, image_size, image_size, 3)\n",
    "print (x_new.shape)\n",
    "print (y_new.shape)"
   ]
  },
  {
   "cell_type": "code",
   "execution_count": 14,
   "metadata": {},
   "outputs": [],
   "source": [
    "bacteria_names = ['Ecoli', 'Listeria', 'Salmonella', 'Staphylococus']"
   ]
  },
  {
   "cell_type": "code",
   "execution_count": 15,
   "metadata": {},
   "outputs": [
    {
     "data": {
      "image/png": "[encoded data removed]",
      "text/plain": [
       "<Figure size 432x288 with 1 Axes>"
      ]
     },
     "metadata": {
      "needs_background": "light"
     },
     "output_type": "display_data"
    },
    {
     "name": "stdout",
     "output_type": "stream",
     "text": [
      "Salmonella\n",
      "520\n"
     ]
    }
   ],
   "source": [
    "import random\n",
    "\n",
    "m = random.randint(0,X.shape[0]-1)\n",
    "\n",
    "plt.imshow(X[m])\n",
    "plt.show()\n",
    "\n",
    "if y[m]==0:\n",
    "    print(bacteria_names[0])\n",
    "elif y[m] ==1:\n",
    "    print(bacteria_names[1])\n",
    "elif y[m]==2:\n",
    "    print(bacteria_names[2])\n",
    "else:\n",
    "    print(bacteria_names[3])\n",
    "    \n",
    "print(n[m])"
   ]
  },
  {
   "cell_type": "code",
   "execution_count": 16,
   "metadata": {
    "scrolled": true
   },
   "outputs": [],
   "source": [
    "from sklearn.model_selection import train_test_split\n",
    "\n",
    "X_train, X_test, y_train, y_test = train_test_split(x_new,y_new, test_size=0.1, random_state=32)"
   ]
  },
  {
   "cell_type": "code",
   "execution_count": 17,
   "metadata": {
    "scrolled": true
   },
   "outputs": [
    {
     "data": {
      "text/plain": [
       "(545, 512, 512, 3)"
      ]
     },
     "execution_count": 17,
     "metadata": {},
     "output_type": "execute_result"
    }
   ],
   "source": [
    "X_train.shape"
   ]
  },
  {
   "cell_type": "code",
   "execution_count": 18,
   "metadata": {
    "scrolled": true
   },
   "outputs": [
    {
     "data": {
      "text/plain": [
       "(61, 512, 512, 3)"
      ]
     },
     "execution_count": 18,
     "metadata": {},
     "output_type": "execute_result"
    }
   ],
   "source": [
    "X_test.shape"
   ]
  },
  {
   "cell_type": "code",
   "execution_count": 19,
   "metadata": {
    "scrolled": true
   },
   "outputs": [
    {
     "data": {
      "text/plain": [
       "(545, 1)"
      ]
     },
     "execution_count": 19,
     "metadata": {},
     "output_type": "execute_result"
    }
   ],
   "source": [
    "y_train.shape"
   ]
  },
  {
   "cell_type": "code",
   "execution_count": 20,
   "metadata": {
    "scrolled": true
   },
   "outputs": [
    {
     "data": {
      "text/plain": [
       "(61, 1)"
      ]
     },
     "execution_count": 20,
     "metadata": {},
     "output_type": "execute_result"
    }
   ],
   "source": [
    "y_test.shape"
   ]
  },
  {
   "cell_type": "code",
   "execution_count": 21,
   "metadata": {
    "scrolled": true
   },
   "outputs": [
    {
     "data": {
      "image/png": "[encoded data removed]",
      "text/plain": [
       "<Figure size 432x288 with 1 Axes>"
      ]
     },
     "metadata": {
      "needs_background": "light"
     },
     "output_type": "display_data"
    },
    {
     "name": "stdout",
     "output_type": "stream",
     "text": [
      "[3]\n"
     ]
    }
   ],
   "source": [
    "import random\n",
    "\n",
    "l = random.randint(0,X_train.shape[0]-1)\n",
    "\n",
    "plt.imshow(X_train[l])\n",
    "plt.show()\n",
    "print(y_train[l])"
   ]
  },
  {
   "cell_type": "code",
   "execution_count": 22,
   "metadata": {},
   "outputs": [],
   "source": [
    "i = Input(X_train.shape[1:])\n",
    "\n",
    "a = Conv2D(32, (3,3), activation ='relu', padding = 'same')(i)\n",
    "a = Conv2D(32, (3,3), activation ='relu', padding = 'same')(a)\n",
    "a = BatchNormalization()(a)\n",
    "a = MaxPooling2D(2,2)(a)\n",
    "\n",
    "a = Conv2D(64, (3,3), activation ='relu', padding = 'same')(a)\n",
    "a = BatchNormalization()(a)\n",
    "a = Conv2D(64, (3,3), activation ='relu', padding = 'same')(a)\n",
    "a = BatchNormalization()(a)\n",
    "a = MaxPooling2D(2,2)(a)\n",
    "\n",
    "a = Conv2D(128, (3,3), activation ='relu', padding = 'same')(a)\n",
    "a = BatchNormalization()(a)\n",
    "a = Conv2D(128, (3,3), activation ='relu', padding = 'same')(a)\n",
    "a = BatchNormalization()(a)\n",
    "a = MaxPooling2D(2,2)(a)\n",
    "\n",
    "a = Conv2D(256, (3,3), activation ='relu', padding = 'same')(a)\n",
    "a = BatchNormalization()(a)\n",
    "a = MaxPooling2D(2,2)(a)\n",
    "a = Conv2D(256, (3,3), activation ='relu', padding = 'same')(a)\n",
    "a = BatchNormalization()(a)\n",
    "a = MaxPooling2D(2,2)(a)\n",
    "\n",
    "a = Flatten()(a)\n",
    "a = Dense(1024, activation = 'relu')(a)\n",
    "a = Dropout(0.2)(a)\n",
    "a = Dense(1024, activation = 'relu')(a)\n",
    "a = Dropout(0.1)(a)\n",
    "\n",
    "a = Dense(4, activation = 'softmax')(a)\n",
    "\n",
    "model = Model(i,a)"
   ]
  },
  {
   "cell_type": "code",
   "execution_count": 23,
   "metadata": {},
   "outputs": [
    {
     "name": "stdout",
     "output_type": "stream",
     "text": [
      "Model: \"model\"\n",
      "_________________________________________________________________\n",
      "Layer (type)                 Output Shape              Param #   \n",
      "=================================================================\n",
      "input_1 (InputLayer)         [(None, 512, 512, 3)]     0         \n",
      "_________________________________________________________________\n",
      "conv2d (Conv2D)              (None, 512, 512, 32)      896       \n",
      "_________________________________________________________________\n",
      "conv2d_1 (Conv2D)            (None, 512, 512, 32)      9248      \n",
      "_________________________________________________________________\n",
      "batch_normalization (BatchNo (None, 512, 512, 32)      128       \n",
      "_________________________________________________________________\n",
      "max_pooling2d (MaxPooling2D) (None, 256, 256, 32)      0         \n",
      "_________________________________________________________________\n",
      "conv2d_2 (Conv2D)            (None, 256, 256, 64)      18496     \n",
      "_________________________________________________________________\n",
      "batch_normalization_1 (Batch (None, 256, 256, 64)      256       \n",
      "_________________________________________________________________\n",
      "conv2d_3 (Conv2D)            (None, 256, 256, 64)      36928     \n",
      "_________________________________________________________________\n",
      "batch_normalization_2 (Batch (None, 256, 256, 64)      256       \n",
      "_________________________________________________________________\n",
      "max_pooling2d_1 (MaxPooling2 (None, 128, 128, 64)      0         \n",
      "_________________________________________________________________\n",
      "conv2d_4 (Conv2D)            (None, 128, 128, 128)     73856     \n",
      "_________________________________________________________________\n",
      "batch_normalization_3 (Batch (None, 128, 128, 128)     512       \n",
      "_________________________________________________________________\n",
      "conv2d_5 (Conv2D)            (None, 128, 128, 128)     147584    \n",
      "_________________________________________________________________\n",
      "batch_normalization_4 (Batch (None, 128, 128, 128)     512       \n",
      "_________________________________________________________________\n",
      "max_pooling2d_2 (MaxPooling2 (None, 64, 64, 128)       0         \n",
      "_________________________________________________________________\n",
      "conv2d_6 (Conv2D)            (None, 64, 64, 256)       295168    \n",
      "_________________________________________________________________\n",
      "batch_normalization_5 (Batch (None, 64, 64, 256)       1024      \n",
      "_________________________________________________________________\n",
      "max_pooling2d_3 (MaxPooling2 (None, 32, 32, 256)       0         \n",
      "_________________________________________________________________\n",
      "conv2d_7 (Conv2D)            (None, 32, 32, 256)       590080    \n",
      "_________________________________________________________________\n",
      "batch_normalization_6 (Batch (None, 32, 32, 256)       1024      \n",
      "_________________________________________________________________\n",
      "max_pooling2d_4 (MaxPooling2 (None, 16, 16, 256)       0         \n",
      "_________________________________________________________________\n",
      "flatten (Flatten)            (None, 65536)             0         \n",
      "_________________________________________________________________\n",
      "dense (Dense)                (None, 1024)              67109888  \n",
      "_________________________________________________________________\n",
      "dropout (Dropout)            (None, 1024)              0         \n",
      "_________________________________________________________________\n",
      "dense_1 (Dense)              (None, 1024)              1049600   \n",
      "_________________________________________________________________\n",
      "dropout_1 (Dropout)          (None, 1024)              0         \n",
      "_________________________________________________________________\n",
      "dense_2 (Dense)              (None, 4)                 4100      \n",
      "=================================================================\n",
      "Total params: 69,339,556\n",
      "Trainable params: 69,337,700\n",
      "Non-trainable params: 1,856\n",
      "_________________________________________________________________\n"
     ]
    }
   ],
   "source": [
    "model.compile(optimizer = 'adam' ,loss = 'sparse_categorical_crossentropy', metrics = ['accuracy'])\n",
    "model.summary()"
   ]
  },
  {
   "cell_type": "code",
   "execution_count": 24,
   "metadata": {},
   "outputs": [],
   "source": [
    "data_generator = ImageDataGenerator(horizontal_flip =True,\n",
    "                                    vertical_flip =True,\n",
    "                                    width_shift_range = 0.1, \n",
    "                                    height_shift_range = 0.1, \n",
    "                                    rotation_range = 10, \n",
    "                                    rescale = 1.0, \n",
    "                                    zoom_range = 0.2,\n",
    "                                    fill_mode='nearest',\n",
    "                                   cval=0)"
   ]
  },
  {
   "cell_type": "code",
   "execution_count": 25,
   "metadata": {},
   "outputs": [],
   "source": [
    "batch_size = 4\n",
    "\n",
    "train_gen = data_generator.flow(X_train, y_train, batch_size)\n",
    "steps_per_epoch = X_train.shape[0]//batch_size"
   ]
  },
  {
   "cell_type": "code",
   "execution_count": 26,
   "metadata": {},
   "outputs": [],
   "source": [
    "from tensorflow.keras.callbacks import ModelCheckpoint\n",
    "\n",
    "checkpoint = ModelCheckpoint('Bacteria1.h5', monitor='val_accuracy', verbose=1, save_best_only=True, mode='auto')"
   ]
  },
  {
   "cell_type": "code",
   "execution_count": 27,
   "metadata": {},
   "outputs": [
    {
     "name": "stdout",
     "output_type": "stream",
     "text": [
      "WARNING:tensorflow:sample_weight modes were coerced from\n",
      "  ...\n",
      "    to  \n",
      "  ['...']\n",
      "Train for 136 steps, validate on 61 samples\n",
      "Epoch 1/15\n",
      "135/136 [============================>.] - ETA: 0s - loss: 20.3574 - accuracy: 0.3222\n",
      "Epoch 00001: val_accuracy improved from -inf to 0.22951, saving model to Bacteria1.h5\n",
      "136/136 [==============================] - 45s 333ms/step - loss: 20.2678 - accuracy: 0.3216 - val_loss: 31.5668 - val_accuracy: 0.2295\n",
      "Epoch 2/15\n",
      "135/136 [============================>.] - ETA: 0s - loss: 6.2076 - accuracy: 0.3575\n",
      "Epoch 00002: val_accuracy did not improve from 0.22951\n",
      "136/136 [==============================] - 33s 244ms/step - loss: 6.1656 - accuracy: 0.3604 - val_loss: 7.6417 - val_accuracy: 0.2295\n",
      "Epoch 3/15\n",
      "135/136 [============================>.] - ETA: 0s - loss: 3.4498 - accuracy: 0.3706\n",
      "Epoch 00003: val_accuracy improved from 0.22951 to 0.29508, saving model to Bacteria1.h5\n",
      "136/136 [==============================] - 37s 271ms/step - loss: 3.4662 - accuracy: 0.3678 - val_loss: 2.3342 - val_accuracy: 0.2951\n",
      "Epoch 4/15\n",
      "135/136 [============================>.] - ETA: 0s - loss: 2.4392 - accuracy: 0.3966\n",
      "Epoch 00004: val_accuracy improved from 0.29508 to 0.31148, saving model to Bacteria1.h5\n",
      "136/136 [==============================] - 64s 469ms/step - loss: 2.4432 - accuracy: 0.3956 - val_loss: 2.4157 - val_accuracy: 0.3115\n",
      "Epoch 5/15\n",
      "135/136 [============================>.] - ETA: 0s - loss: 1.6422 - accuracy: 0.4432\n",
      "Epoch 00005: val_accuracy improved from 0.31148 to 0.59016, saving model to Bacteria1.h5\n",
      "136/136 [==============================] - 37s 271ms/step - loss: 1.6366 - accuracy: 0.4455 - val_loss: 0.9157 - val_accuracy: 0.5902\n",
      "Epoch 6/15\n",
      "135/136 [============================>.] - ETA: 0s - loss: 1.8655 - accuracy: 0.4358\n",
      "Epoch 00006: val_accuracy did not improve from 0.59016\n",
      "136/136 [==============================] - 33s 243ms/step - loss: 1.8726 - accuracy: 0.4325 - val_loss: 1.3844 - val_accuracy: 0.4590\n",
      "Epoch 7/15\n",
      "135/136 [============================>.] - ETA: 0s - loss: 1.6492 - accuracy: 0.4786\n",
      "Epoch 00007: val_accuracy did not improve from 0.59016\n",
      "136/136 [==============================] - 33s 243ms/step - loss: 1.6438 - accuracy: 0.4769 - val_loss: 1.2180 - val_accuracy: 0.5574\n",
      "Epoch 8/15\n",
      "135/136 [============================>.] - ETA: 0s - loss: 1.3222 - accuracy: 0.5047\n",
      "Epoch 00008: val_accuracy did not improve from 0.59016\n",
      "136/136 [==============================] - 33s 243ms/step - loss: 1.3145 - accuracy: 0.5083 - val_loss: 1.5558 - val_accuracy: 0.2787\n",
      "Epoch 9/15\n",
      "135/136 [============================>.] - ETA: 0s - loss: 1.3441 - accuracy: 0.5307\n",
      "Epoch 00009: val_accuracy did not improve from 0.59016\n",
      "136/136 [==============================] - 33s 244ms/step - loss: 1.3382 - accuracy: 0.5323 - val_loss: 1.1897 - val_accuracy: 0.4590\n",
      "Epoch 10/15\n",
      "135/136 [============================>.] - ETA: 0s - loss: 1.3624 - accuracy: 0.5028\n",
      "Epoch 00010: val_accuracy did not improve from 0.59016\n",
      "136/136 [==============================] - 33s 243ms/step - loss: 1.3600 - accuracy: 0.5028 - val_loss: 1.0157 - val_accuracy: 0.5410\n",
      "Epoch 11/15\n",
      "135/136 [============================>.] - ETA: 0s - loss: 1.0469 - accuracy: 0.5605\n",
      "Epoch 00011: val_accuracy did not improve from 0.59016\n",
      "136/136 [==============================] - 33s 243ms/step - loss: 1.0411 - accuracy: 0.5638 - val_loss: 1.0233 - val_accuracy: 0.4590\n",
      "Epoch 12/15\n",
      "135/136 [============================>.] - ETA: 0s - loss: 1.0840 - accuracy: 0.5736\n",
      "Epoch 00012: val_accuracy improved from 0.59016 to 0.60656, saving model to Bacteria1.h5\n",
      "136/136 [==============================] - 37s 272ms/step - loss: 1.0926 - accuracy: 0.5730 - val_loss: 0.9121 - val_accuracy: 0.6066\n",
      "Epoch 13/15\n",
      "135/136 [============================>.] - ETA: 0s - loss: 1.0349 - accuracy: 0.5940\n",
      "Epoch 00013: val_accuracy did not improve from 0.60656\n",
      "136/136 [==============================] - 33s 243ms/step - loss: 1.0341 - accuracy: 0.5933 - val_loss: 1.1664 - val_accuracy: 0.4918\n",
      "Epoch 14/15\n",
      "135/136 [============================>.] - ETA: 0s - loss: 1.0605 - accuracy: 0.5717\n",
      "Epoch 00014: val_accuracy did not improve from 0.60656\n",
      "136/136 [==============================] - 33s 243ms/step - loss: 1.0566 - accuracy: 0.5749 - val_loss: 0.7625 - val_accuracy: 0.6066\n",
      "Epoch 15/15\n",
      "135/136 [============================>.] - ETA: 0s - loss: 0.9270 - accuracy: 0.6406\n",
      "Epoch 00015: val_accuracy improved from 0.60656 to 0.70492, saving model to Bacteria1.h5\n",
      "136/136 [==============================] - 37s 272ms/step - loss: 0.9299 - accuracy: 0.6396 - val_loss: 0.6589 - val_accuracy: 0.7049\n"
     ]
    }
   ],
   "source": [
    "r = model.fit(train_gen, validation_data=(X_test, y_test), steps_per_epoch = steps_per_epoch, epochs= 15,\n",
    "                       callbacks = [checkpoint])"
   ]
  },
  {
   "cell_type": "code",
   "execution_count": 28,
   "metadata": {},
   "outputs": [
    {
     "data": {
      "text/plain": [
       "<matplotlib.legend.Legend at 0x23499b7f488>"
      ]
     },
     "execution_count": 28,
     "metadata": {},
     "output_type": "execute_result"
    },
    {
     "data": {
      "image/png": "[encoded data removed]",
      "text/plain": [
       "<Figure size 432x288 with 1 Axes>"
      ]
     },
     "metadata": {
      "needs_background": "light"
     },
     "output_type": "display_data"
    }
   ],
   "source": [
    "plt.plot(r.history['loss'],label='loss')\n",
    "plt.plot(r.history['val_loss'],label='val_loss')\n",
    "plt.legend()"
   ]
  },
  {
   "cell_type": "code",
   "execution_count": 30,
   "metadata": {},
   "outputs": [],
   "source": [
    "plt.plot(r.history['loss'],label='loss')\n",
    "plt.plot(r.history['val_loss'],label='val_loss')\n",
    "plt.legend()"
   ]
  },
  {
   "cell_type": "code",
   "execution_count": null,
   "metadata": {},
   "outputs": [],
   "source": [
    "new_model = tf.keras.models.load_model('Bacteria1.h5')"
   ]
  },
  {
   "cell_type": "code",
   "execution_count": 31,
   "metadata": {},
   "outputs": [
    {
     "name": "stdout",
     "output_type": "stream",
     "text": [
      "WARNING:tensorflow:sample_weight modes were coerced from\n",
      "  ...\n",
      "    to  \n",
      "  ['...']\n",
      "Train for 136 steps, validate on 61 samples\n",
      "Epoch 1/15\n",
      "135/136 [============================>.] - ETA: 0s - loss: 0.6437 - accuracy: 0.7449\n",
      "Epoch 00001: val_accuracy improved from -inf to 0.88525, saving model to Bacteria2.h5\n",
      "136/136 [==============================] - 36s 262ms/step - loss: 0.6415 - accuracy: 0.7449 - val_loss: 0.4243 - val_accuracy: 0.8852\n",
      "Epoch 2/15\n",
      "135/136 [============================>.] - ETA: 0s - loss: 0.6361 - accuracy: 0.7561\n",
      "Epoch 00002: val_accuracy did not improve from 0.88525\n",
      "136/136 [==============================] - 31s 229ms/step - loss: 0.6333 - accuracy: 0.7560 - val_loss: 0.4460 - val_accuracy: 0.8852\n",
      "Epoch 3/15\n",
      "135/136 [============================>.] - ETA: 0s - loss: 0.5332 - accuracy: 0.7803\n",
      "Epoch 00003: val_accuracy improved from 0.88525 to 0.95082, saving model to Bacteria2.h5\n",
      "136/136 [==============================] - 64s 468ms/step - loss: 0.5308 - accuracy: 0.7819 - val_loss: 0.3894 - val_accuracy: 0.9508\n",
      "Epoch 4/15\n",
      "135/136 [============================>.] - ETA: 0s - loss: 0.5127 - accuracy: 0.8324\n",
      "Epoch 00004: val_accuracy did not improve from 0.95082\n",
      "136/136 [==============================] - 31s 228ms/step - loss: 0.5109 - accuracy: 0.8318 - val_loss: 0.3722 - val_accuracy: 0.9016\n",
      "Epoch 5/15\n",
      "135/136 [============================>.] - ETA: 0s - loss: 0.4756 - accuracy: 0.8175\n",
      "Epoch 00005: val_accuracy did not improve from 0.95082\n",
      "136/136 [==============================] - 31s 228ms/step - loss: 0.4773 - accuracy: 0.8170 - val_loss: 0.3178 - val_accuracy: 0.9508\n",
      "Epoch 6/15\n",
      "135/136 [============================>.] - ETA: 0s - loss: 0.3836 - accuracy: 0.8585\n",
      "Epoch 00006: val_accuracy did not improve from 0.95082\n",
      "136/136 [==============================] - 31s 229ms/step - loss: 0.3862 - accuracy: 0.8577 - val_loss: 0.3390 - val_accuracy: 0.9016\n",
      "Epoch 7/15\n",
      "135/136 [============================>.] - ETA: 0s - loss: 0.3398 - accuracy: 0.8734\n",
      "Epoch 00007: val_accuracy did not improve from 0.95082\n",
      "136/136 [==============================] - 31s 229ms/step - loss: 0.3382 - accuracy: 0.8743 - val_loss: 0.5029 - val_accuracy: 0.7705\n",
      "Epoch 8/15\n",
      "135/136 [============================>.] - ETA: 0s - loss: 0.3419 - accuracy: 0.8864\n",
      "Epoch 00008: val_accuracy improved from 0.95082 to 0.98361, saving model to Bacteria2.h5\n",
      "136/136 [==============================] - 35s 257ms/step - loss: 0.3425 - accuracy: 0.8854 - val_loss: 0.1921 - val_accuracy: 0.9836\n",
      "Epoch 9/15\n",
      "135/136 [============================>.] - ETA: 0s - loss: 0.3395 - accuracy: 0.8790\n",
      "Epoch 00009: val_accuracy did not improve from 0.98361\n",
      "136/136 [==============================] - 31s 229ms/step - loss: 0.3371 - accuracy: 0.8799 - val_loss: 0.2493 - val_accuracy: 0.8852\n",
      "Epoch 10/15\n",
      "135/136 [============================>.] - ETA: 0s - loss: 0.2213 - accuracy: 0.9181\n",
      "Epoch 00010: val_accuracy did not improve from 0.98361\n",
      "136/136 [==============================] - 31s 229ms/step - loss: 0.2211 - accuracy: 0.9187 - val_loss: 0.1905 - val_accuracy: 0.9508\n",
      "Epoch 11/15\n",
      "135/136 [============================>.] - ETA: 0s - loss: 0.2648 - accuracy: 0.9143\n",
      "Epoch 00011: val_accuracy did not improve from 0.98361\n",
      "136/136 [==============================] - 31s 229ms/step - loss: 0.2699 - accuracy: 0.9131 - val_loss: 0.1610 - val_accuracy: 0.9344\n",
      "Epoch 12/15\n",
      "135/136 [============================>.] - ETA: 0s - loss: 0.2310 - accuracy: 0.9199\n",
      "Epoch 00012: val_accuracy did not improve from 0.98361\n",
      "136/136 [==============================] - 31s 229ms/step - loss: 0.2294 - accuracy: 0.9205 - val_loss: 0.1003 - val_accuracy: 0.9508\n",
      "Epoch 13/15\n",
      "135/136 [============================>.] - ETA: 0s - loss: 0.2817 - accuracy: 0.9088\n",
      "Epoch 00013: val_accuracy did not improve from 0.98361\n",
      "136/136 [==============================] - 31s 229ms/step - loss: 0.2809 - accuracy: 0.9094 - val_loss: 0.1296 - val_accuracy: 0.9508\n",
      "Epoch 14/15\n",
      "135/136 [============================>.] - ETA: 0s - loss: 0.1458 - accuracy: 0.9516\n",
      "Epoch 00014: val_accuracy did not improve from 0.98361\n",
      "136/136 [==============================] - 31s 229ms/step - loss: 0.1447 - accuracy: 0.9519 - val_loss: 0.1783 - val_accuracy: 0.9180\n",
      "Epoch 15/15\n",
      "135/136 [============================>.] - ETA: 0s - loss: 0.1974 - accuracy: 0.9292\n",
      "Epoch 00015: val_accuracy did not improve from 0.98361\n",
      "136/136 [==============================] - 31s 229ms/step - loss: 0.1963 - accuracy: 0.9298 - val_loss: 0.1109 - val_accuracy: 0.9344\n"
     ]
    }
   ],
   "source": [
    "new_model.compile(optimizer = Adam(lr = 1e-4), loss = 'sparse_categorical_crossentropy', metrics = ['accuracy']) \n",
    "\n",
    "checkpoint1 = ModelCheckpoint('Bacteria2.h5', monitor='val_accuracy', verbose=1, save_best_only=True, mode='auto')\n",
    "\n",
    "batch_size = 4\n",
    "\n",
    "r1 = new_model.fit(train_gen, validation_data=(X_test, y_test), steps_per_epoch = steps_per_epoch, epochs= 15,\n",
    "                       callbacks = [checkpoint1])"
   ]
  },
  {
   "cell_type": "code",
   "execution_count": 33,
   "metadata": {},
   "outputs": [
    {
     "name": "stdout",
     "output_type": "stream",
     "text": [
      "WARNING:tensorflow:sample_weight modes were coerced from\n",
      "  ...\n",
      "    to  \n",
      "  ['...']\n",
      "Train for 136 steps, validate on 61 samples\n",
      "Epoch 1/10\n",
      "135/136 [============================>.] - ETA: 0s - loss: 0.1154 - accuracy: 0.9553\n",
      "Epoch 00001: val_accuracy improved from -inf to 0.98361, saving model to Bacteria3.h5\n",
      "136/136 [==============================] - 36s 262ms/step - loss: 0.1149 - accuracy: 0.9556 - val_loss: 0.0769 - val_accuracy: 0.9836\n",
      "Epoch 2/10\n",
      "135/136 [============================>.] - ETA: 0s - loss: 0.0839 - accuracy: 0.9758\n",
      "Epoch 00002: val_accuracy did not improve from 0.98361\n",
      "136/136 [==============================] - 31s 228ms/step - loss: 0.0836 - accuracy: 0.9760 - val_loss: 0.0775 - val_accuracy: 0.9836\n",
      "Epoch 3/10\n",
      "135/136 [============================>.] - ETA: 0s - loss: 0.0844 - accuracy: 0.9739\n",
      "Epoch 00003: val_accuracy did not improve from 0.98361\n",
      "136/136 [==============================] - 31s 229ms/step - loss: 0.0865 - accuracy: 0.9723 - val_loss: 0.0680 - val_accuracy: 0.9836\n",
      "Epoch 4/10\n",
      "135/136 [============================>.] - ETA: 0s - loss: 0.1335 - accuracy: 0.9628\n",
      "Epoch 00004: val_accuracy did not improve from 0.98361\n",
      "136/136 [==============================] - 31s 229ms/step - loss: 0.1348 - accuracy: 0.9612 - val_loss: 0.0413 - val_accuracy: 0.9836\n",
      "Epoch 5/10\n",
      "135/136 [============================>.] - ETA: 0s - loss: 0.1001 - accuracy: 0.9702\n",
      "Epoch 00005: val_accuracy did not improve from 0.98361\n",
      "136/136 [==============================] - 31s 228ms/step - loss: 0.0995 - accuracy: 0.9704 - val_loss: 0.0251 - val_accuracy: 0.9836\n",
      "Epoch 6/10\n",
      "135/136 [============================>.] - ETA: 0s - loss: 0.0607 - accuracy: 0.9795\n",
      "Epoch 00006: val_accuracy did not improve from 0.98361\n",
      "136/136 [==============================] - 31s 229ms/step - loss: 0.0604 - accuracy: 0.9797 - val_loss: 0.0285 - val_accuracy: 0.9836\n",
      "Epoch 7/10\n",
      "135/136 [============================>.] - ETA: 0s - loss: 0.0934 - accuracy: 0.9665\n",
      "Epoch 00007: val_accuracy did not improve from 0.98361\n",
      "136/136 [==============================] - 31s 229ms/step - loss: 0.0932 - accuracy: 0.9667 - val_loss: 0.0419 - val_accuracy: 0.9672\n",
      "Epoch 8/10\n",
      "135/136 [============================>.] - ETA: 0s - loss: 0.0759 - accuracy: 0.9758\n",
      "Epoch 00008: val_accuracy improved from 0.98361 to 1.00000, saving model to Bacteria3.h5\n",
      "136/136 [==============================] - 35s 258ms/step - loss: 0.0757 - accuracy: 0.9760 - val_loss: 0.0175 - val_accuracy: 1.0000\n",
      "Epoch 9/10\n",
      "135/136 [============================>.] - ETA: 0s - loss: 0.0699 - accuracy: 0.9795\n",
      "Epoch 00009: val_accuracy did not improve from 1.00000\n",
      "136/136 [==============================] - 31s 228ms/step - loss: 0.0694 - accuracy: 0.9797 - val_loss: 0.0338 - val_accuracy: 0.9672\n",
      "Epoch 10/10\n",
      "135/136 [============================>.] - ETA: 0s - loss: 0.0589 - accuracy: 0.9870\n",
      "Epoch 00010: val_accuracy did not improve from 1.00000\n",
      "136/136 [==============================] - 31s 229ms/step - loss: 0.0585 - accuracy: 0.9871 - val_loss: 0.0206 - val_accuracy: 1.0000\n"
     ]
    }
   ],
   "source": [
    "new_model.compile(optimizer = Adam(lr = 1e-5), loss = 'sparse_categorical_crossentropy', metrics = ['accuracy']) \n",
    "\n",
    "checkpoint2 = ModelCheckpoint('Bacteria3.h5', monitor='val_accuracy', verbose=1, save_best_only=True, mode='auto')\n",
    "\n",
    "batch_size = 4\n",
    "\n",
    "train_gen = data_generator.flow(X_train, y_train, batch_size)\n",
    "steps_per_epoch = X_train.shape[0]//batch_size\n",
    "\n",
    "r1 = new_model.fit(train_gen, validation_data=(X_test, y_test), steps_per_epoch = steps_per_epoch, epochs= 10,\n",
    "                       callbacks = [checkpoint2])"
   ]
  },
  {
   "cell_type": "code",
   "execution_count": 27,
   "metadata": {},
   "outputs": [],
   "source": [
    "final_model = tf.keras.models.load_model('Bacteria3.h5')"
   ]
  },
  {
   "cell_type": "code",
   "execution_count": 28,
   "metadata": {},
   "outputs": [],
   "source": [
    "from mlxtend.plotting import plot_confusion_matrix\n",
    "from sklearn.metrics import confusion_matrix"
   ]
  },
  {
   "cell_type": "code",
   "execution_count": 29,
   "metadata": {},
   "outputs": [
    {
     "name": "stdout",
     "output_type": "stream",
     "text": [
      "[2 0 1 1 3 3 0 2 1 0 3 3 2 1 1 0 0 2 0 3 2 0 2 2 3 0 3 0 2 3 0 3 2 0 2 2 1\n",
      " 2 1 3 0 2 0 0 1 1 2 2 3 2 0 3 0 2 1 2 3 0 3 2 0]\n"
     ]
    }
   ],
   "source": [
    "P= final_model.predict(X_test, batch_size = 4).argmax(axis=1)\n",
    "print(P)"
   ]
  },
  {
   "cell_type": "code",
   "execution_count": 30,
   "metadata": {},
   "outputs": [
    {
     "data": {
      "text/plain": [
       "(<Figure size 360x360 with 1 Axes>,\n",
       " <matplotlib.axes._subplots.AxesSubplot at 0x29eae574588>)"
      ]
     },
     "execution_count": 30,
     "metadata": {},
     "output_type": "execute_result"
    },
    {
     "data": {
      "image/png": "[encoded data removed]",
      "text/plain": [
       "<Figure size 360x360 with 1 Axes>"
      ]
     },
     "metadata": {
      "needs_background": "light"
     },
     "output_type": "display_data"
    }
   ],
   "source": [
    "matrix = confusion_matrix (y_test, P)\n",
    "plot_confusion_matrix(matrix, figsize=(5,5))"
   ]
  },
  {
   "cell_type": "code",
   "execution_count": 31,
   "metadata": {},
   "outputs": [],
   "source": [
    "def perf_measure(y_test, P):\n",
    "    TP = 0\n",
    "    FP = 0\n",
    "    TN = 0\n",
    "    FN = 0\n",
    "\n",
    "    for i in range(len(P)): \n",
    "        if y_test[i]==P[i]==1:\n",
    "           TP += 1\n",
    "        if y_test[i]==1 and y_test[i]!=P[i]:\n",
    "           FP += 1\n",
    "        if y_test[i]==P[i]==0:\n",
    "           TN += 1\n",
    "        if y_test[i]==0 and y_test[i]!=P[i]:\n",
    "           FN += 1\n",
    "\n",
    "    return(TP, FP, TN, FN)"
   ]
  },
  {
   "cell_type": "code",
   "execution_count": 32,
   "metadata": {},
   "outputs": [
    {
     "name": "stdout",
     "output_type": "stream",
     "text": [
      "Recall of the model is 1.00\n",
      "Precision of the model is 1.00\n",
      "F-Score is 1.00\n"
     ]
    }
   ],
   "source": [
    "tp, fp, tn ,fn = perf_measure(y_test,P)\n",
    "\n",
    "precision = tp/(tp+fp)\n",
    "recall = tp/(tp+fn)\n",
    "f_score = (2*precision*recall)/(precision+recall)\n",
    "\n",
    "print(\"Recall of the model is {:.2f}\".format(recall))\n",
    "print(\"Precision of the model is {:.2f}\".format(precision))\n",
    "print(\"F-Score is {:.2f}\".format(f_score))"
   ]
  },
  {
   "cell_type": "markdown",
   "metadata": {},
   "source": [
    "## Final Classification"
   ]
  },
  {
   "cell_type": "code",
   "execution_count": 33,
   "metadata": {},
   "outputs": [
    {
     "data": {
      "text/plain": [
       "(1227,)"
      ]
     },
     "execution_count": 33,
     "metadata": {},
     "output_type": "execute_result"
    }
   ],
   "source": [
    "location_test = 'H:/All Files/Kaggle/Bacteria/Test_Images/'\n",
    "test = os.listdir(location_test)\n",
    "np.shape(test)"
   ]
  },
  {
   "cell_type": "code",
   "execution_count": 34,
   "metadata": {},
   "outputs": [
    {
     "data": {
      "text/html": [
       "<div>\n",
       "<style scoped>\n",
       "    .dataframe tbody tr th:only-of-type {\n",
       "        vertical-align: middle;\n",
       "    }\n",
       "\n",
       "    .dataframe tbody tr th {\n",
       "        vertical-align: top;\n",
       "    }\n",
       "\n",
       "    .dataframe thead th {\n",
       "        text-align: right;\n",
       "    }\n",
       "</style>\n",
       "<table border=\"1\" class=\"dataframe\">\n",
       "  <thead>\n",
       "    <tr style=\"text-align: right;\">\n",
       "      <th></th>\n",
       "      <th>Image ID</th>\n",
       "      <th>Class</th>\n",
       "    </tr>\n",
       "  </thead>\n",
       "  <tbody>\n",
       "    <tr>\n",
       "      <th>0</th>\n",
       "      <td>2</td>\n",
       "      <td>NaN</td>\n",
       "    </tr>\n",
       "    <tr>\n",
       "      <th>1</th>\n",
       "      <td>6</td>\n",
       "      <td>NaN</td>\n",
       "    </tr>\n",
       "    <tr>\n",
       "      <th>2</th>\n",
       "      <td>7</td>\n",
       "      <td>NaN</td>\n",
       "    </tr>\n",
       "    <tr>\n",
       "      <th>3</th>\n",
       "      <td>8</td>\n",
       "      <td>NaN</td>\n",
       "    </tr>\n",
       "    <tr>\n",
       "      <th>4</th>\n",
       "      <td>9</td>\n",
       "      <td>NaN</td>\n",
       "    </tr>\n",
       "    <tr>\n",
       "      <th>5</th>\n",
       "      <td>10</td>\n",
       "      <td>NaN</td>\n",
       "    </tr>\n",
       "    <tr>\n",
       "      <th>6</th>\n",
       "      <td>11</td>\n",
       "      <td>NaN</td>\n",
       "    </tr>\n",
       "    <tr>\n",
       "      <th>7</th>\n",
       "      <td>12</td>\n",
       "      <td>NaN</td>\n",
       "    </tr>\n",
       "    <tr>\n",
       "      <th>8</th>\n",
       "      <td>13</td>\n",
       "      <td>NaN</td>\n",
       "    </tr>\n",
       "    <tr>\n",
       "      <th>9</th>\n",
       "      <td>17</td>\n",
       "      <td>NaN</td>\n",
       "    </tr>\n",
       "  </tbody>\n",
       "</table>\n",
       "</div>"
      ],
      "text/plain": [
       "   Image ID  Class\n",
       "0         2    NaN\n",
       "1         6    NaN\n",
       "2         7    NaN\n",
       "3         8    NaN\n",
       "4         9    NaN\n",
       "5        10    NaN\n",
       "6        11    NaN\n",
       "7        12    NaN\n",
       "8        13    NaN\n",
       "9        17    NaN"
      ]
     },
     "execution_count": 34,
     "metadata": {},
     "output_type": "execute_result"
    }
   ],
   "source": [
    "df = pd.read_csv('H:/All Files/Kaggle/Bacteria/SubmissionFile.csv')\n",
    "df.head(10)"
   ]
  },
  {
   "cell_type": "code",
   "execution_count": 65,
   "metadata": {},
   "outputs": [],
   "source": [
    "def loadDataTest(df, location):\n",
    "\n",
    "    labels = []\n",
    "  \n",
    "    for i, item in df.iterrows():\n",
    "        image_raw = cv.imread(os.path.join(location_test + str(int(item[0])) + '.png'))\n",
    "        image_resize = cv.resize(image_raw,(image_size,image_size))\n",
    "        image_unshaped = image_resize/255.0\n",
    "        image = np.array(image_unshaped).reshape(-1, image_size, image_size, 3)\n",
    "        \n",
    "        \n",
    "        label = final_model.predict(image).argmax(axis=1)\n",
    "                                    \n",
    "        if label==0:\n",
    "            label = bacteria_names[0]\n",
    "        elif label ==1:\n",
    "            label = bacteria_names[1]\n",
    "        elif label==2:\n",
    "            label = bacteria_names[2]\n",
    "        else:\n",
    "            label = bacteria_names[3]\n",
    "            \n",
    "        labels.append(label)\n",
    "        \n",
    "                                    \n",
    "    return labels "
   ]
  },
  {
   "cell_type": "code",
   "execution_count": 66,
   "metadata": {},
   "outputs": [],
   "source": [
    "final_csv = pd.DataFrame(data = loadDataTest(df,location_test))"
   ]
  },
  {
   "cell_type": "code",
   "execution_count": 67,
   "metadata": {},
   "outputs": [
    {
     "data": {
      "text/html": [
       "<div>\n",
       "<style scoped>\n",
       "    .dataframe tbody tr th:only-of-type {\n",
       "        vertical-align: middle;\n",
       "    }\n",
       "\n",
       "    .dataframe tbody tr th {\n",
       "        vertical-align: top;\n",
       "    }\n",
       "\n",
       "    .dataframe thead th {\n",
       "        text-align: right;\n",
       "    }\n",
       "</style>\n",
       "<table border=\"1\" class=\"dataframe\">\n",
       "  <thead>\n",
       "    <tr style=\"text-align: right;\">\n",
       "      <th></th>\n",
       "      <th>0</th>\n",
       "    </tr>\n",
       "  </thead>\n",
       "  <tbody>\n",
       "    <tr>\n",
       "      <th>0</th>\n",
       "      <td>Staphylococus</td>\n",
       "    </tr>\n",
       "    <tr>\n",
       "      <th>1</th>\n",
       "      <td>Salmonella</td>\n",
       "    </tr>\n",
       "    <tr>\n",
       "      <th>2</th>\n",
       "      <td>Ecoli</td>\n",
       "    </tr>\n",
       "    <tr>\n",
       "      <th>3</th>\n",
       "      <td>Ecoli</td>\n",
       "    </tr>\n",
       "    <tr>\n",
       "      <th>4</th>\n",
       "      <td>Ecoli</td>\n",
       "    </tr>\n",
       "    <tr>\n",
       "      <th>5</th>\n",
       "      <td>Ecoli</td>\n",
       "    </tr>\n",
       "    <tr>\n",
       "      <th>6</th>\n",
       "      <td>Staphylococus</td>\n",
       "    </tr>\n",
       "    <tr>\n",
       "      <th>7</th>\n",
       "      <td>Staphylococus</td>\n",
       "    </tr>\n",
       "    <tr>\n",
       "      <th>8</th>\n",
       "      <td>Ecoli</td>\n",
       "    </tr>\n",
       "    <tr>\n",
       "      <th>9</th>\n",
       "      <td>Salmonella</td>\n",
       "    </tr>\n",
       "    <tr>\n",
       "      <th>10</th>\n",
       "      <td>Listeria</td>\n",
       "    </tr>\n",
       "    <tr>\n",
       "      <th>11</th>\n",
       "      <td>Salmonella</td>\n",
       "    </tr>\n",
       "    <tr>\n",
       "      <th>12</th>\n",
       "      <td>Salmonella</td>\n",
       "    </tr>\n",
       "    <tr>\n",
       "      <th>13</th>\n",
       "      <td>Staphylococus</td>\n",
       "    </tr>\n",
       "    <tr>\n",
       "      <th>14</th>\n",
       "      <td>Ecoli</td>\n",
       "    </tr>\n",
       "    <tr>\n",
       "      <th>15</th>\n",
       "      <td>Staphylococus</td>\n",
       "    </tr>\n",
       "    <tr>\n",
       "      <th>16</th>\n",
       "      <td>Listeria</td>\n",
       "    </tr>\n",
       "    <tr>\n",
       "      <th>17</th>\n",
       "      <td>Staphylococus</td>\n",
       "    </tr>\n",
       "    <tr>\n",
       "      <th>18</th>\n",
       "      <td>Salmonella</td>\n",
       "    </tr>\n",
       "    <tr>\n",
       "      <th>19</th>\n",
       "      <td>Ecoli</td>\n",
       "    </tr>\n",
       "    <tr>\n",
       "      <th>20</th>\n",
       "      <td>Ecoli</td>\n",
       "    </tr>\n",
       "    <tr>\n",
       "      <th>21</th>\n",
       "      <td>Staphylococus</td>\n",
       "    </tr>\n",
       "    <tr>\n",
       "      <th>22</th>\n",
       "      <td>Listeria</td>\n",
       "    </tr>\n",
       "    <tr>\n",
       "      <th>23</th>\n",
       "      <td>Staphylococus</td>\n",
       "    </tr>\n",
       "    <tr>\n",
       "      <th>24</th>\n",
       "      <td>Ecoli</td>\n",
       "    </tr>\n",
       "  </tbody>\n",
       "</table>\n",
       "</div>"
      ],
      "text/plain": [
       "                0\n",
       "0   Staphylococus\n",
       "1      Salmonella\n",
       "2           Ecoli\n",
       "3           Ecoli\n",
       "4           Ecoli\n",
       "5           Ecoli\n",
       "6   Staphylococus\n",
       "7   Staphylococus\n",
       "8           Ecoli\n",
       "9      Salmonella\n",
       "10       Listeria\n",
       "11     Salmonella\n",
       "12     Salmonella\n",
       "13  Staphylococus\n",
       "14          Ecoli\n",
       "15  Staphylococus\n",
       "16       Listeria\n",
       "17  Staphylococus\n",
       "18     Salmonella\n",
       "19          Ecoli\n",
       "20          Ecoli\n",
       "21  Staphylococus\n",
       "22       Listeria\n",
       "23  Staphylococus\n",
       "24          Ecoli"
      ]
     },
     "execution_count": 67,
     "metadata": {},
     "output_type": "execute_result"
    }
   ],
   "source": [
    "final_csv.head(25)"
   ]
  },
  {
   "cell_type": "code",
   "execution_count": 68,
   "metadata": {},
   "outputs": [],
   "source": [
    "df['Class'] = final_csv"
   ]
  },
  {
   "cell_type": "code",
   "execution_count": 69,
   "metadata": {},
   "outputs": [
    {
     "data": {
      "text/html": [
       "<div>\n",
       "<style scoped>\n",
       "    .dataframe tbody tr th:only-of-type {\n",
       "        vertical-align: middle;\n",
       "    }\n",
       "\n",
       "    .dataframe tbody tr th {\n",
       "        vertical-align: top;\n",
       "    }\n",
       "\n",
       "    .dataframe thead th {\n",
       "        text-align: right;\n",
       "    }\n",
       "</style>\n",
       "<table border=\"1\" class=\"dataframe\">\n",
       "  <thead>\n",
       "    <tr style=\"text-align: right;\">\n",
       "      <th></th>\n",
       "      <th>Image ID</th>\n",
       "      <th>Class</th>\n",
       "    </tr>\n",
       "  </thead>\n",
       "  <tbody>\n",
       "    <tr>\n",
       "      <th>0</th>\n",
       "      <td>2</td>\n",
       "      <td>Staphylococus</td>\n",
       "    </tr>\n",
       "    <tr>\n",
       "      <th>1</th>\n",
       "      <td>6</td>\n",
       "      <td>Salmonella</td>\n",
       "    </tr>\n",
       "    <tr>\n",
       "      <th>2</th>\n",
       "      <td>7</td>\n",
       "      <td>Ecoli</td>\n",
       "    </tr>\n",
       "    <tr>\n",
       "      <th>3</th>\n",
       "      <td>8</td>\n",
       "      <td>Ecoli</td>\n",
       "    </tr>\n",
       "    <tr>\n",
       "      <th>4</th>\n",
       "      <td>9</td>\n",
       "      <td>Ecoli</td>\n",
       "    </tr>\n",
       "    <tr>\n",
       "      <th>...</th>\n",
       "      <td>...</td>\n",
       "      <td>...</td>\n",
       "    </tr>\n",
       "    <tr>\n",
       "      <th>1222</th>\n",
       "      <td>1996</td>\n",
       "      <td>Ecoli</td>\n",
       "    </tr>\n",
       "    <tr>\n",
       "      <th>1223</th>\n",
       "      <td>1997</td>\n",
       "      <td>Salmonella</td>\n",
       "    </tr>\n",
       "    <tr>\n",
       "      <th>1224</th>\n",
       "      <td>1998</td>\n",
       "      <td>Listeria</td>\n",
       "    </tr>\n",
       "    <tr>\n",
       "      <th>1225</th>\n",
       "      <td>1999</td>\n",
       "      <td>Staphylococus</td>\n",
       "    </tr>\n",
       "    <tr>\n",
       "      <th>1226</th>\n",
       "      <td>2000</td>\n",
       "      <td>Listeria</td>\n",
       "    </tr>\n",
       "  </tbody>\n",
       "</table>\n",
       "<p>1227 rows × 2 columns</p>\n",
       "</div>"
      ],
      "text/plain": [
       "      Image ID          Class\n",
       "0            2  Staphylococus\n",
       "1            6     Salmonella\n",
       "2            7          Ecoli\n",
       "3            8          Ecoli\n",
       "4            9          Ecoli\n",
       "...        ...            ...\n",
       "1222      1996          Ecoli\n",
       "1223      1997     Salmonella\n",
       "1224      1998       Listeria\n",
       "1225      1999  Staphylococus\n",
       "1226      2000       Listeria\n",
       "\n",
       "[1227 rows x 2 columns]"
      ]
     },
     "execution_count": 69,
     "metadata": {},
     "output_type": "execute_result"
    }
   ],
   "source": [
    "df"
   ]
  },
  {
   "cell_type": "code",
   "execution_count": 71,
   "metadata": {
    "scrolled": true
   },
   "outputs": [],
   "source": [
    "df.to_excel('Bacteria_Classification_Predictions.xlsx')"
   ]
  },
  {
   "cell_type": "code",
   "execution_count": null,
   "metadata": {},
   "outputs": [],
   "source": []
  }
 ],
 "metadata": {
  "kernelspec": {
   "display_name": "Python 3",
   "language": "python",
   "name": "python3"
  },
  "language_info": {
   "codemirror_mode": {
    "name": "ipython",
    "version": 3
   },
   "file_extension": ".py",
   "mimetype": "text/x-python",
   "name": "python",
   "nbconvert_exporter": "python",
   "pygments_lexer": "ipython3",
   "version": "3.7.6"
  }
 },
 "nbformat": 4,
 "nbformat_minor": 2
}
